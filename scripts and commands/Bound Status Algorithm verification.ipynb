{
 "cells": [
  {
   "cell_type": "code",
   "execution_count": 1,
   "outputs": [],
   "source": [
    "import matplotlib.path as mpltPath\n",
    "import numpy as np\n",
    "import matplotlib.pyplot as plt\n",
    "from time import time"
   ],
   "metadata": {
    "collapsed": false
   }
  },
  {
   "cell_type": "code",
   "execution_count": 2,
   "outputs": [],
   "source": [
    "box_l = 200\n",
    "xw = box_l/2.0\n",
    "yw = box_l/2.0\n",
    "\n",
    "border_x_list = [-xw,-xw]\n",
    "border_y_list = [-yw,yw]\n",
    "\n",
    "BinLength = box_l / 20\n",
    "for bin in np.arange(1, 20):\n",
    "    border_x_list.append(border_x_list[bin] + BinLength)\n",
    "    border_y_list.append(yw)\n",
    "\n",
    "border_x_list.extend([xw,xw,-xw])\n",
    "border_y_list.extend([yw,-yw,-yw])\n",
    "\n",
    "borderX = np.array(border_x_list)\n",
    "borderY = np.array(border_y_list)"
   ],
   "metadata": {
    "collapsed": false
   }
  },
  {
   "cell_type": "code",
   "execution_count": 3,
   "outputs": [],
   "source": [
    "from numba import jit, prange\n",
    "from numba import types as t\n",
    "\n",
    "def is_inside_sm(polygon, point):\n",
    "    length = len(polygon) - 1\n",
    "    dy2 = point[1] - polygon[0][1]\n",
    "    intersections = 0\n",
    "    ii = 0\n",
    "    jj = 1\n",
    "\n",
    "    while ii < length:\n",
    "        dy = dy2\n",
    "        dy2 = point[1] - polygon[jj][1]\n",
    "\n",
    "        # consider only lines which are not completely above/bellow/right from the point\n",
    "        if dy * dy2 <= 0.0 and (point[0] >= polygon[ii][0] or point[0] >= polygon[jj][0]):\n",
    "\n",
    "            # non-horizontal line\n",
    "            if dy < 0 or dy2 < 0:\n",
    "                F = dy * (polygon[jj][0] - polygon[ii][0]) / (dy - dy2) + polygon[ii][0]\n",
    "\n",
    "                if point[0] > F:  # if line is left from the point - the ray moving towards left, will intersect it\n",
    "                    intersections += 1\n",
    "                elif point[0] == F:  # point on line\n",
    "                    return 2\n",
    "\n",
    "            # point on upper peak (dy2=dx2=0) or horizontal line (dy=dy2=0 and dx*dx2<=0)\n",
    "            elif dy2 == 0 and (point[0] == polygon[jj][0] or (\n",
    "                    dy == 0 and (point[0] - polygon[ii][0]) * (point[0] - polygon[jj][0]) <= 0)):\n",
    "                return 2\n",
    "\n",
    "            # there is another posibility: (dy=0 and dy2>0) or (dy>0 and dy2=0). It is skipped\n",
    "            # deliberately to prevent break-points intersections to be counted twice.\n",
    "\n",
    "        ii = jj\n",
    "        jj += 1\n",
    "\n",
    "    # print 'intersections =', intersections\n",
    "    return intersections & 1"
   ],
   "metadata": {
    "collapsed": false
   }
  },
  {
   "cell_type": "code",
   "execution_count": 4,
   "outputs": [],
   "source": [
    "import numba\n",
    "from numba import prange\n",
    "\n",
    "def find_bound_status(x_co_ordinates, y_co_ordinates, poly_x, poly_y):\n",
    "    status = np.empty(len(x_co_ordinates), dtype=bool)\n",
    "    polygon = np.vstack((poly_x, poly_y)).T\n",
    "    points = np.vstack((x_co_ordinates, y_co_ordinates)).T\n",
    "    for i in prange(len(x_co_ordinates)):\n",
    "        status[i] = is_inside_sm(polygon, points[i])\n",
    "    in_bound = np.where(status)[0]\n",
    "    out_bound = np.where(status == False)[0]\n",
    "    return in_bound, out_bound"
   ],
   "metadata": {
    "collapsed": false
   }
  },
  {
   "cell_type": "code",
   "execution_count": 5,
   "outputs": [],
   "source": [
    "def get_random_points(points_count, spread):\n",
    "    return (np.random.rand(points_count, 2) - 0.5) * spread\n"
   ],
   "metadata": {
    "collapsed": false
   }
  },
  {
   "cell_type": "code",
   "execution_count": 6,
   "outputs": [],
   "source": [
    "border_points = np.vstack((borderX, borderY)).T\n",
    "border_path = mpltPath.Path(border_points)"
   ],
   "metadata": {
    "collapsed": false
   }
  },
  {
   "cell_type": "code",
   "execution_count": 8,
   "outputs": [],
   "source": [
    "for i in range(20):\n",
    "    points = get_random_points(10000, 300)\n",
    "\n",
    "    bound_status = border_path.contains_points(points)\n",
    "    mat_in = np.where(bound_status==True)[0]\n",
    "    mat_out = np.where(bound_status==False)[0]\n",
    "\n",
    "    new_algo_in, new_algo_out = find_bound_status(points[:,0], points[:,1], borderX, borderY)\n",
    "\n",
    "    if not np.array_equal(mat_in, new_algo_in):\n",
    "        print(f\"In bound particles match do not match.\")\n",
    "    if not np.array_equal(mat_out, new_algo_out):\n",
    "        print(f\"Out bound particles match do not match.\")"
   ],
   "metadata": {
    "collapsed": false
   }
  },
  {
   "cell_type": "code",
   "execution_count": null,
   "outputs": [],
   "source": [],
   "metadata": {
    "collapsed": false
   }
  }
 ],
 "metadata": {
  "kernelspec": {
   "display_name": "Python 3",
   "language": "python",
   "name": "python3"
  },
  "language_info": {
   "codemirror_mode": {
    "name": "ipython",
    "version": 2
   },
   "file_extension": ".py",
   "mimetype": "text/x-python",
   "name": "python",
   "nbconvert_exporter": "python",
   "pygments_lexer": "ipython2",
   "version": "2.7.6"
  }
 },
 "nbformat": 4,
 "nbformat_minor": 0
}
